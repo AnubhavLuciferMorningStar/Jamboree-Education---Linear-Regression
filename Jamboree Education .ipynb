{
 "cells": [
  {
   "cell_type": "markdown",
   "id": "36a1fba3",
   "metadata": {},
   "source": [
    "# Jamboree Education - Linear Regression\n",
    "\n",
    "## Introduction\n",
    "Jamboree has helped thousands of students like you make it to top colleges abroad. Be it GMAT, GRE or SAT, their unique problem-solving methods ensure maximum scores with minimum effort.\n",
    "They recently launched a feature where students/learners can come to their website and check their probability of getting into the IVY league college. This feature estimates the chances of graduate admission from an Indian perspective."
   ]
  },
  {
   "cell_type": "code",
   "execution_count": null,
   "id": "40fb29a4",
   "metadata": {},
   "outputs": [],
   "source": [
    "import numpy as np\n",
    "import pandas as pd\n",
    "import seaborn as sns\n",
    "import matplotlib.pyplot as plt\n",
    "import statsmodels.api as sm\n",
    "from statsmodels.graphics.regressionplots import plot_regress_exog\n",
    "from statsmodels.stats.outliers_influence import variance_inflation_factor\n",
    "from statsmodels.graphics.gofplots import qqplot\n",
    "from statsmodels.stats.outliers_influence import variance_inflation_factor\n",
    "from sklearn.model_selection import train_test_split\n",
    "from sklearn.preprocessing import StandardScaler\n",
    "from sklearn.linear_model import LogisticRegression\n",
    "from sklearn.pipeline import make_pipeline\n",
    "from sklearn.metrics import accuracy_score\n",
    "from sklearn.datasets import make_classification\n",
    "from sklearn.inspection import DecisionBoundaryDisplay\n",
    "from sklearn.linear_model import LinearRegression\n",
    "from sklearn.preprocessing import MinMaxScaler\n",
    "from sklearn.metrics import mean_absolute_error, mean_squared_error, r2_score\n",
    "from sklearn.linear_model import Ridge, Lasso"
   ]
  },
  {
   "cell_type": "code",
   "execution_count": null,
   "id": "13b4879a",
   "metadata": {},
   "outputs": [],
   "source": [
    "df = pd.read_csv(\"Jamboree_Admission.csv\")\n",
    "df.head()"
   ]
  },
  {
   "cell_type": "code",
   "execution_count": null,
   "id": "b0ba4908",
   "metadata": {},
   "outputs": [],
   "source": [
    "df.describe()"
   ]
  },
  {
   "cell_type": "code",
   "execution_count": null,
   "id": "8ba31546",
   "metadata": {},
   "outputs": [],
   "source": [
    "df.shape"
   ]
  },
  {
   "cell_type": "code",
   "execution_count": null,
   "id": "a373997d",
   "metadata": {},
   "outputs": [],
   "source": [
    "df.columns"
   ]
  },
  {
   "cell_type": "code",
   "execution_count": null,
   "id": "4f85fa90",
   "metadata": {},
   "outputs": [],
   "source": [
    "df.info()"
   ]
  },
  {
   "cell_type": "code",
   "execution_count": null,
   "id": "4729f515",
   "metadata": {},
   "outputs": [],
   "source": [
    "df.dtypes"
   ]
  },
  {
   "cell_type": "code",
   "execution_count": null,
   "id": "658eb7d5",
   "metadata": {},
   "outputs": [],
   "source": [
    "df.isnull().sum()"
   ]
  },
  {
   "cell_type": "code",
   "execution_count": null,
   "id": "d9e8297b",
   "metadata": {},
   "outputs": [],
   "source": [
    "sns.histplot(df['GRE Score'])\n",
    "sns.histplot(df['TOEFL Score'])\n",
    "sns.histplot(df['University Rating'])\n",
    "sns.histplot(df['SOP'])\n",
    "sns.histplot(df['LOR '])\n",
    "sns.histplot(df['Research'])\n",
    "sns.histplot(df['CGPA'])\n",
    "sns.histplot(df['Chance of Admit '])\n",
    "plt.show()"
   ]
  },
  {
   "cell_type": "markdown",
   "id": "e0cefc96",
   "metadata": {},
   "source": [
    "## Once you’ve ensured that students with varied merit apply for the university, you can start understanding the relationship between different factors responsible for graduate admissions."
   ]
  },
  {
   "cell_type": "code",
   "execution_count": null,
   "id": "774fff2c",
   "metadata": {},
   "outputs": [],
   "source": [
    "sns.scatterplot(x='GRE Score', y='Chance of Admit ', data=df)\n",
    "sns.scatterplot(x='TOEFL Score', y='Chance of Admit ', data=df)\n",
    "sns.scatterplot(x='University Rating', y='Chance of Admit ', data=df)\n",
    "sns.scatterplot(x='LOR ', y='Chance of Admit ', data=df)\n",
    "sns.scatterplot(x='SOP', y='Chance of Admit ', data=df)\n",
    "sns.scatterplot(x='CGPA', y='Chance of Admit ', data=df)\n",
    "sns.scatterplot(x='Research', y='Chance of Admit ', data=df)\n",
    "plt.show()"
   ]
  },
  {
   "cell_type": "code",
   "execution_count": null,
   "id": "37339324",
   "metadata": {},
   "outputs": [],
   "source": [
    "sns.pairplot(df[['GRE Score', 'TOEFL Score', 'University Rating', 'SOP', 'LOR ', 'CGPA', 'Research', 'Chance of Admit ']])\n",
    "# Display the plot\n",
    "plt.show()"
   ]
  },
  {
   "cell_type": "markdown",
   "id": "06b323c0",
   "metadata": {},
   "source": [
    "## Drop the unique row Identifier if you see any. This step is important as you don’t want your model to build some understanding based on row numbers."
   ]
  },
  {
   "cell_type": "code",
   "execution_count": null,
   "id": "3a7fa324",
   "metadata": {},
   "outputs": [],
   "source": [
    "df = df.drop(['Serial No.'], axis=1)\n",
    "df"
   ]
  },
  {
   "cell_type": "code",
   "execution_count": null,
   "id": "25cdd031",
   "metadata": {},
   "outputs": [],
   "source": [
    "df.describe()"
   ]
  },
  {
   "cell_type": "markdown",
   "id": "07b5467c",
   "metadata": {},
   "source": [
    "## Use Non-graphical and graphical analysis for getting inferences about variables. \n",
    "   * This can be done by checking the distribution of variables of graduate applicants."
   ]
  },
  {
   "cell_type": "code",
   "execution_count": null,
   "id": "33c12acc",
   "metadata": {},
   "outputs": [],
   "source": [
    "df.columns"
   ]
  },
  {
   "cell_type": "code",
   "execution_count": null,
   "id": "a4dc4f32",
   "metadata": {},
   "outputs": [],
   "source": [
    "# Calculate descriptive statistics\n",
    "stats = df[['GRE Score', 'TOEFL Score', 'University Rating', 'CGPA', 'Chance of Admit ']].describe()\n",
    "\n",
    "# Print the statistics\n",
    "print(stats)"
   ]
  },
  {
   "cell_type": "code",
   "execution_count": null,
   "id": "25da95e5",
   "metadata": {},
   "outputs": [],
   "source": [
    "# Create histograms\n",
    "sns.histplot(df['GRE Score'], kde=True)\n",
    "sns.histplot(df['TOEFL Score'], kde=True)\n",
    "sns.histplot(df['CGPA'], kde=True)\n",
    "\n",
    "# Create boxplots\n",
    "sns.boxplot(x=df['University Rating'], y=df['GRE Score'])\n",
    "sns.boxplot(x=df['University Rating'], y=df['TOEFL Score'])\n",
    "sns.boxplot(x=df['University Rating'], y=df['CGPA'])\n",
    "\n",
    "# Create density plots\n",
    "sns.kdeplot(df['GRE Score'])\n",
    "sns.kdeplot(df['TOEFL Score'])\n",
    "sns.kdeplot(df['CGPA'])\n",
    "\n",
    "# Create bar plot\n",
    "sns.countplot(x=df['Research'])\n",
    "\n",
    "# Display the plots\n",
    "plt.show()"
   ]
  },
  {
   "cell_type": "code",
   "execution_count": null,
   "id": "4b786067",
   "metadata": {},
   "outputs": [],
   "source": [
    "# Calculate correlation coefficients\n",
    "corr = df[['GRE Score', 'TOEFL Score', 'University Rating', 'CGPA', 'Chance of Admit ']].corr()\n",
    "\n",
    "# Print the correlation matrix\n",
    "print(corr)"
   ]
  },
  {
   "cell_type": "code",
   "execution_count": null,
   "id": "5640b445",
   "metadata": {},
   "outputs": [],
   "source": [
    "# Visualize the correlation matrix\n",
    "sns.heatmap(corr, annot=True, cmap='coolwarm')\n",
    "\n",
    "# Display the heatmap\n",
    "plt.show()"
   ]
  },
  {
   "cell_type": "markdown",
   "id": "29728c31",
   "metadata": {},
   "source": [
    "## Check correlation among independent variables and how they interact with each other."
   ]
  },
  {
   "cell_type": "code",
   "execution_count": null,
   "id": "6f35a748",
   "metadata": {},
   "outputs": [],
   "source": [
    "df.corr()"
   ]
  },
  {
   "cell_type": "code",
   "execution_count": null,
   "id": "21a1866b",
   "metadata": {},
   "outputs": [],
   "source": [
    "# Create a heatmap of the correlation matrix\n",
    "sns.heatmap(df.corr(), annot=True, cmap='coolwarm')\n",
    "\n",
    "# Show the plot\n",
    "plt.show()"
   ]
  },
  {
   "cell_type": "code",
   "execution_count": null,
   "id": "3a243869",
   "metadata": {},
   "outputs": [],
   "source": [
    "# Create a pairplot of the independent variables\n",
    "sns.pairplot(df[['GRE Score', 'TOEFL Score', 'University Rating', 'SOP', 'LOR ', 'CGPA', 'Research']], diag_kind='kde')\n",
    "\n",
    "# Show the plot\n",
    "plt.show()"
   ]
  },
  {
   "cell_type": "markdown",
   "id": "43b32750",
   "metadata": {},
   "source": [
    "## Use Linear Regression from (Statsmodel library) and explain the results.\n",
    "### Test the assumptions of linear regression:\n",
    "* Multicollinearity check by VIF score\n",
    "* Mean of residuals\n",
    "* Linearity of variables (no pattern in residual plot)\n",
    "* Test for Homoscedasticity\n",
    "* Normality of residuals"
   ]
  },
  {
   "cell_type": "code",
   "execution_count": null,
   "id": "01afc02f",
   "metadata": {},
   "outputs": [],
   "source": [
    "# Build the linear regression model using the Statsmodel library:\n",
    "X = df[['GRE Score', 'TOEFL Score', 'University Rating', 'SOP', 'LOR ', 'CGPA', 'Research']]\n",
    "y = df['Chance of Admit ']\n",
    "\n",
    "X = sm.add_constant(X)\n",
    "model = sm.OLS(y, X).fit()\n",
    "print(model.params)"
   ]
  },
  {
   "cell_type": "code",
   "execution_count": null,
   "id": "561bdcf6",
   "metadata": {},
   "outputs": [],
   "source": [
    "# Multicollinearity check by VIF score\n",
    "vif = pd.DataFrame()\n",
    "vif['Variables'] = X.columns\n",
    "vif['VIF'] = [variance_inflation_factor(X.values, i) for i in range(X.shape[1])]\n",
    "print(vif)"
   ]
  },
  {
   "cell_type": "code",
   "execution_count": null,
   "id": "670a51f5",
   "metadata": {},
   "outputs": [],
   "source": [
    "# Mean of residuals:\n",
    "residuals = model.resid\n",
    "mean_residual = np.mean(residuals)\n",
    "print(f'Mean of residuals: {mean_residual}')"
   ]
  },
  {
   "cell_type": "code",
   "execution_count": null,
   "id": "21427d1b",
   "metadata": {},
   "outputs": [],
   "source": [
    "# Linearity of variables (no pattern in residual plot):\n",
    "sns.scatterplot(x=y, y=residuals)\n",
    "plt.xlabel('Chance of Admit ')\n",
    "plt.ylabel('Residuals')\n",
    "plt.title('Linearity of Variables')\n",
    "plt.show()"
   ]
  },
  {
   "cell_type": "code",
   "execution_count": null,
   "id": "c131e666",
   "metadata": {},
   "outputs": [],
   "source": [
    "# Test for Homoscedasticity:\n",
    "plt.scatter(model.fittedvalues, residuals)\n",
    "plt.xlabel('Fitted Values')\n",
    "plt.ylabel('Residuals')\n",
    "plt.title('Test for Homoscedasticity')\n",
    "plt.show()"
   ]
  },
  {
   "cell_type": "code",
   "execution_count": null,
   "id": "bf9690d9",
   "metadata": {},
   "outputs": [],
   "source": [
    "# Normality of residuals:\n",
    "residuals = model.resid\n",
    "qqplot(residuals, line='s')\n",
    "plt.title('Normality of Residuals')\n",
    "plt.show()"
   ]
  },
  {
   "cell_type": "markdown",
   "id": "b72cfe1b",
   "metadata": {},
   "source": [
    "## Do model evaluation- MAE, RMSE, R2 score, Adjusted R2."
   ]
  },
  {
   "cell_type": "code",
   "execution_count": null,
   "id": "1c58c79a",
   "metadata": {},
   "outputs": [],
   "source": [
    "# Assuming you have train and test datasets\n",
    "X_train, X_test, y_train, y_test = train_test_split(X, y, test_size=0.2, random_state=42)\n",
    "\n",
    "# Fit the model on the training data\n",
    "model = sm.OLS(y_train, X_train).fit()\n",
    "\n",
    "# Make predictions on the test data\n",
    "y_pred = model.predict(X_test)\n",
    "\n",
    "# Calculate the evaluation metrics\n",
    "mae = mean_absolute_error(y_test, y_pred)\n",
    "mse = mean_squared_error(y_test, y_pred)\n",
    "rmse = np.sqrt(mse)\n",
    "r2 = r2_score(y_test, y_pred)\n",
    "adj_r2 = 1 - (1 - r2) * (len(y_test) - 1) / (len(y_test) - X.shape[1] - 1)\n",
    "\n",
    "# Print the evaluation metrics\n",
    "print(\"MAE:\", mae)\n",
    "print(\"RMSE:\", rmse)\n",
    "print(\"R2 score:\", r2)\n",
    "print(\"Adjusted R2 score:\", adj_r2)"
   ]
  },
  {
   "cell_type": "code",
   "execution_count": null,
   "id": "9cc1617b",
   "metadata": {},
   "outputs": [],
   "source": [
    "# Define the regularization strengths\n",
    "alpha_ridge = 1.0\n",
    "alpha_lasso = 1.0\n",
    "\n",
    "# Fit Ridge regression on the training data\n",
    "ridge = Ridge(alpha=alpha_ridge)\n",
    "ridge.fit(X_train, y_train)\n",
    "\n",
    "# Fit Lasso regression on the training data\n",
    "lasso = Lasso(alpha=alpha_lasso)\n",
    "lasso.fit(X_train, y_train)\n",
    "\n",
    "# Make predictions on the test data for Ridge and Lasso\n",
    "y_pred_ridge = ridge.predict(X_test)\n",
    "y_pred_lasso = lasso.predict(X_test)\n",
    "\n",
    "# Calculate the evaluation metrics for Ridge and Lasso\n",
    "mae_ridge = mean_absolute_error(y_test, y_pred_ridge)\n",
    "mse_ridge = mean_squared_error(y_test, y_pred_ridge)\n",
    "rmse_ridge = np.sqrt(mse_ridge)\n",
    "r2_ridge = r2_score(y_test, y_pred_ridge)\n",
    "\n",
    "mae_lasso = mean_absolute_error(y_test, y_pred_lasso)\n",
    "mse_lasso = mean_squared_error(y_test, y_pred_lasso)\n",
    "rmse_lasso = np.sqrt(mse_lasso)\n",
    "r2_lasso = r2_score(y_test, y_pred_lasso)\n",
    "\n",
    "# Print the evaluation metrics for Ridge and Lasso\n",
    "print(\"Ridge Regression:\")\n",
    "print(\"MAE:\", mae_ridge)\n",
    "print(\"RMSE:\", rmse_ridge)\n",
    "print(\"R2 score:\", r2_ridge)\n",
    "\n",
    "print(\"Lasso Regression:\")\n",
    "print(\"MAE:\", mae_lasso)\n",
    "print(\"RMSE:\", rmse_lasso)\n",
    "print(\"R2 score:\", r2_lasso)"
   ]
  },
  {
   "cell_type": "markdown",
   "id": "23a814d0",
   "metadata": {},
   "source": [
    "# Insights\n",
    "* GRE scores have a significant positive relationship with the Chance of Admit, meaning that a higher GRE score increases the chances of getting into the IVY league college.\n",
    "* TOEFL scores have a moderate positive relationship with the Chance of Admit, indicating that a higher TOEFL score also increases the chances of admission.\n",
    "* The university rating has a weak positive relationship with the Chance of Admit, suggesting that a higher university rating increases the chances of admission.\n",
    "* Both SOP and LOR have a weak positive relationship with the Chance of Admit, indicating that a well-written SOP and strong LOR can improve the chances of admission.\n",
    "* CGPA has a moderate positive relationship with the Chance of Admit, suggesting that a higher CGPA increases the chances of admission.\n",
    "* Research experience has a strong positive relationship with the Chance of Admit, indicating that students with research experience have a higher chance of admission.\n",
    "* The linear regression model has a high R2 score and a low MAE and RMSE, indicating that the model has a good fit and can predict the Chance of Admit with a high degree of accuracy.\n",
    "* The model can be improved by including additional predictor variables, such as work experience, publications, and extracurricular activities.\n",
    "* The model can be implemented on Jamboree's website to provide students with an estimate of their chances of admission.\n",
    "* The model can help Jamboree to improve their services by providing personalized estimates of the Chance of Admit to students."
   ]
  },
  {
   "cell_type": "markdown",
   "id": "973f098c",
   "metadata": {},
   "source": [
    "# Recommendations\n",
    "* Encourage students to aim for a higher GRE score to improve their chances of admission.\n",
    "* Encourage students to prepare well for the TOEFL exam and aim for a high score.\n",
    "* Students should consider applying to universities with higher ratings to improve their chances of admission.\n",
    "* Encourage students to focus on writing a strong SOP and obtaining a strong LOR from their professors.\n",
    "* Encourage students to maintain a high CGPA during their undergraduate studies.\n",
    "* Encourage students to gain research experience during their undergraduate studies.\n",
    "* The model can be used to predict the Chance of Admit for students with varied merit.\n",
    "* Collect data on additional predictor variables to improve the model's performance.\n",
    "* Implement the model on Jamboree's website to provide students with personalized estimates of their chances of admission.\n",
    "* Use the model to provide personalized estimates of the Chance of Admit to students and offer targeted services to improve their chances of admission."
   ]
  }
 ],
 "metadata": {
  "kernelspec": {
   "display_name": "Python 3 (ipykernel)",
   "language": "python",
   "name": "python3"
  },
  "language_info": {
   "codemirror_mode": {
    "name": "ipython",
    "version": 3
   },
   "file_extension": ".py",
   "mimetype": "text/x-python",
   "name": "python",
   "nbconvert_exporter": "python",
   "pygments_lexer": "ipython3",
   "version": "3.10.9"
  }
 },
 "nbformat": 4,
 "nbformat_minor": 5
}
